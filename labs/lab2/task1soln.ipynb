{
 "cells": [
  {
   "cell_type": "markdown",
   "metadata": {},
   "source": [
    "## M3C 2018 Lab 2 task 1 solution"
   ]
  },
  {
   "cell_type": "markdown",
   "metadata": {},
   "source": [
    "1) Use the *rand* function to generate a 3 x 3 matrix, N "
   ]
  },
  {
   "cell_type": "code",
   "execution_count": 4,
   "metadata": {},
   "outputs": [
    {
     "name": "stdout",
     "output_type": "stream",
     "text": [
      "[[ 0.23091585  0.87908197  0.18642086]\n",
      " [ 0.2826943   0.35014611  0.03587661]\n",
      " [ 0.72956215  0.9560334   0.86697742]]\n"
     ]
    }
   ],
   "source": [
    "from numpy.random import rand\n",
    "N = rand(3,3)\n",
    "print(N)"
   ]
  },
  {
   "cell_type": "markdown",
   "metadata": {},
   "source": [
    "2) Compute the eigenvalues and eigenvectors of N:"
   ]
  },
  {
   "cell_type": "code",
   "execution_count": 9,
   "metadata": {},
   "outputs": [
    {
     "name": "stdout",
     "output_type": "stream",
     "text": [
      "eigenvalues: [ 1.22861854 -0.23060605  0.45002687]\n",
      "eigenvectors (columns):\n",
      " [[ 0.29433593  0.88161008 -0.20909644]\n",
      " [ 0.13336667 -0.41528896 -0.25246262]\n",
      " [ 0.94635072 -0.22427381  0.94474404]]\n"
     ]
    }
   ],
   "source": [
    "import numpy as np\n",
    "l,v = np.linalg.eig(N)\n",
    "print('eigenvalues:',l)\n",
    "print('eigenvectors (columns):\\n',v)"
   ]
  },
  {
   "cell_type": "markdown",
   "metadata": {},
   "source": [
    "3) Verify that $\\textrm{det}(N-\\lambda_1 I)=0$ where $\\lambda_1$ is the first eigenvalue of N:"
   ]
  },
  {
   "cell_type": "code",
   "execution_count": 10,
   "metadata": {},
   "outputs": [
    {
     "name": "stdout",
     "output_type": "stream",
     "text": [
      "1.47689859233e-15\n"
     ]
    }
   ],
   "source": [
    "l1 = l[0]\n",
    "I = np.eye(3)\n",
    "check = np.linalg.det(N-np.dot(l1,I))\n",
    "print(check)"
   ]
  },
  {
   "cell_type": "markdown",
   "metadata": {},
   "source": [
    "4) Verify that $N v_1 = \\lambda_1 v_1$ where $v_1$ is the first eigenvector of N:"
   ]
  },
  {
   "cell_type": "code",
   "execution_count": 12,
   "metadata": {},
   "outputs": [
    {
     "name": "stdout",
     "output_type": "stream",
     "text": [
      "[  5.55111512e-16   1.38777878e-16   1.11022302e-15]\n"
     ]
    }
   ],
   "source": [
    "v1 = v[:,0]\n",
    "check = np.dot(N,v1)-l1*v1\n",
    "print(check)"
   ]
  }
 ],
 "metadata": {
  "kernelspec": {
   "display_name": "Python 3",
   "language": "python",
   "name": "python3"
  },
  "language_info": {
   "codemirror_mode": {
    "name": "ipython",
    "version": 3
   },
   "file_extension": ".py",
   "mimetype": "text/x-python",
   "name": "python",
   "nbconvert_exporter": "python",
   "pygments_lexer": "ipython3",
   "version": "3.6.6"
  }
 },
 "nbformat": 4,
 "nbformat_minor": 1
}
