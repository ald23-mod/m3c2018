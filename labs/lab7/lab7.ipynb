{
 "cells": [
  {
   "cell_type": "markdown",
   "metadata": {},
   "source": [
    "### Lab 7 Task 1: Working with animations in Python"
   ]
  },
  {
   "cell_type": "code",
   "execution_count": 1,
   "metadata": {},
   "outputs": [
    {
     "name": "stdout",
     "output_type": "stream",
     "text": [
      "Using matplotlib backend: TkAgg\n",
      "Populating the interactive namespace from numpy and matplotlib\n"
     ]
    }
   ],
   "source": [
    "%pylab\n"
   ]
  },
  {
   "cell_type": "code",
   "execution_count": 11,
   "metadata": {},
   "outputs": [
    {
     "name": "stdout",
     "output_type": "stream",
     "text": [
      "iteration= 0 shift= 0\n",
      "iteration= 0 shift= 0\n",
      "iteration= 1 shift= 1\n",
      "iteration= 2 shift= 2\n",
      "iteration= 3 shift= 3\n",
      "iteration= 4 shift= 4\n",
      "iteration= 5 shift= 5\n",
      "iteration= 6 shift= 6\n",
      "iteration= 7 shift= 7\n",
      "iteration= 8 shift= 8\n",
      "iteration= 9 shift= 9\n",
      "iteration= 10 shift= 10\n",
      "iteration= 11 shift= 11\n",
      "iteration= 12 shift= 12\n",
      "iteration= 13 shift= 13\n",
      "iteration= 14 shift= 14\n",
      "iteration= 15 shift= 0\n",
      "iteration= 16 shift= 1\n",
      "iteration= 17 shift= 2\n",
      "iteration= 18 shift= 3\n",
      "iteration= 19 shift= 4\n",
      "iteration= 20 shift= 5\n",
      "iteration= 21 shift= 6\n",
      "iteration= 22 shift= 7\n",
      "iteration= 23 shift= 8\n",
      "iteration= 24 shift= 9\n",
      "iteration= 25 shift= 10\n",
      "iteration= 26 shift= 11\n",
      "iteration= 27 shift= 12\n",
      "iteration= 28 shift= 13\n",
      "iteration= 29 shift= 14\n"
     ]
    }
   ],
   "source": [
    "#Simple animation example based on example from \n",
    "#Matplotlib online documentation\n",
    "import numpy as np\n",
    "import matplotlib.pyplot as plt\n",
    "import matplotlib.animation as animation\n",
    "\n",
    "#Set up initial figure\n",
    "fig, ax = plt.subplots()\n",
    "line, = ax.plot(np.random.randn(1000),'x')\n",
    "ax.set_xlim(0,1000)\n",
    "ax.set_ylim(0,15)\n",
    "\n",
    "\n",
    "def updatefig(i):\n",
    "    \"\"\"Updates figure each time function is called\n",
    "    and returns new figure 'axes'\n",
    "    \"\"\"\n",
    "    print(\"iteration=\",i,\"shift=\",np.mod(i,15))\n",
    "    line.set_ydata(np.random.randn(1000)+np.mod(i,15))\n",
    "    return line,\n",
    "\n",
    "#updatefig is called 30 times, and each iteration of the image is \n",
    "#stored as a frame in an animation\n",
    "ani = animation.FuncAnimation(fig, updatefig, frames=30,interval=100,repeat=False)\n",
    "plt.show()\n"
   ]
  },
  {
   "cell_type": "markdown",
   "metadata": {},
   "source": [
    "1) Run the cells above, you should see a simple animation displayed in a figure. The figure window should be created *outside* of this notebook -- otherwise the animation may not display properly."
   ]
  },
  {
   "cell_type": "markdown",
   "metadata": {},
   "source": [
    "2) Carefully look through the code above. What is the set_ydata method doing? Modify np.mod(i,10) and verify that you understand the update function."
   ]
  },
  {
   "cell_type": "code",
   "execution_count": 8,
   "metadata": {},
   "outputs": [],
   "source": [
    "#Simple animation example based on example from \n",
    "#Matplotlib online documentation\n",
    "import numpy as np\n",
    "import matplotlib.pyplot as plt\n",
    "import matplotlib.animation as animation\n",
    "\n",
    "#Set up initial figure\n",
    "fig, ax = plt.subplots()"
   ]
  },
  {
   "cell_type": "code",
   "execution_count": 9,
   "metadata": {},
   "outputs": [
    {
     "data": {
      "text/plain": [
       "<bound method Artist.set of <matplotlib.lines.Line2D object at 0x7fa90f79e518>>"
      ]
     },
     "execution_count": 9,
     "metadata": {},
     "output_type": "execute_result"
    }
   ],
   "source": [
    "line, = ax.plot(np.random.randn(1000),'x')\n",
    "line.set"
   ]
  },
  {
   "cell_type": "code",
   "execution_count": 12,
   "metadata": {},
   "outputs": [],
   "source": [
    "\"\"\"Example of an anumation using Matplotlib\"\"\"\n",
    "import numpy as np\n",
    "import matplotlib.pyplot as plt\n",
    "import matplotlib.animation as animation\n",
    "from scipy import misc\n",
    "\n",
    "fig = plt.figure()\n",
    "\n",
    "#load and normalize image matrix\n",
    "#F is an M x N x 3 array with the 3rd dimension corresponding to\n",
    "#the colors red, green, and blie\n",
    "F = misc.face() \n",
    "F = F/float(F.max())\n",
    "\n",
    "#Initial figure in which frames of animation will be displayed\n",
    "x=0\n",
    "im = plt.imshow(F*sin(x)**2, animated=True)\n",
    "\n",
    "def updatefig(*args):\n",
    "    \"\"\"FuncAnimation will call this function \n",
    "    30 times (corresponding to input variable, frames). Each call, \n",
    "    x is updated, a new image is displayed on the figure,\n",
    "    and the updated image is returned. \n",
    "    \"\"\"\n",
    "    global x #The value of x is preserved after returning from function\n",
    "    x = x + np.pi / 15.\n",
    "    im.set_array(F*sin(x)**2)\n",
    "    return im,\n",
    "\n",
    "\n",
    "ani = animation.FuncAnimation(fig, updatefig,frames=30, repeat=False,blit=True)"
   ]
  },
  {
   "cell_type": "markdown",
   "metadata": {},
   "source": [
    "3) The code in the cell above is a similar example of an animation, now using *imshow* and *set_array* rather that *plot* and *set_ydata* and also\n",
    "using a global variable in *updatefig*. Run the code, and then think about how *updatefig* is modifying the image."
   ]
  },
  {
   "cell_type": "markdown",
   "metadata": {},
   "source": [
    "4) Experiment with the updatefig fcuntion. What happens if you change sin(x) to cos(x)? What happens if you modify how x is updated?"
   ]
  },
  {
   "cell_type": "markdown",
   "metadata": {},
   "source": [
    "5) Animation objects have a *save* method for generating movie files. However, this requires additional software such as *ffmpeg*. If you are using a mac, you can go to ffmpeg.org, and find an appropriate installation package. If you are using linux, ffmpeg can be installed with: $ sudo apt-get install ffmpeg\n",
    "\n",
    "From a level 4 machine in the lab7/ directory, you can set up ffmpeg using: $ source setup.sh\n",
    "\n",
    "Once you have ffmpeg set up, use the save method to create a movie file. For VM users, you should be able to play the movie from the Windows side of your machine.\n",
    "\n"
   ]
  },
  {
   "cell_type": "code",
   "execution_count": null,
   "metadata": {
    "collapsed": true
   },
   "outputs": [],
   "source": []
  }
 ],
 "metadata": {
  "kernelspec": {
   "display_name": "Python 3",
   "language": "python",
   "name": "python3"
  },
  "language_info": {
   "codemirror_mode": {
    "name": "ipython",
    "version": 3
   },
   "file_extension": ".py",
   "mimetype": "text/x-python",
   "name": "python",
   "nbconvert_exporter": "python",
   "pygments_lexer": "ipython3",
   "version": "3.6.7"
  }
 },
 "nbformat": 4,
 "nbformat_minor": 2
}
