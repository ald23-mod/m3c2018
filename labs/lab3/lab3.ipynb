{
 "cells": [
  {
   "cell_type": "markdown",
   "metadata": {},
   "source": [
    "## M3C 2018 Lab 3"
   ]
  },
  {
   "cell_type": "code",
   "execution_count": null,
   "metadata": {
    "collapsed": true
   },
   "outputs": [],
   "source": [
    "#set up the notebook\n",
    "import numpy as np\n",
    "import matplotlib.pyplot as plt\n",
    "%matplotlib inline"
   ]
  },
  {
   "cell_type": "markdown",
   "metadata": {},
   "source": [
    "### Task 1: Constrained optimization"
   ]
  },
  {
   "cell_type": "markdown",
   "metadata": {},
   "source": [
    "In lecture 6, we applied unconstrained-optimization methods to find the minimum of a 2-D Gaussian, $$F(x,y) = exp[-\\alpha (x-x_0)^2 -\\beta (y-y_0)^2] \\\\ $$ In this exercise, you will solve this optimization problem subject to the *equality* constraint, $y = sin(x)$"
   ]
  },
  {
   "cell_type": "markdown",
   "metadata": {},
   "source": [
    "1) First, we introduce python functions for the cost function, and its gradient (identical to gauss2d.py):"
   ]
  },
  {
   "cell_type": "code",
   "execution_count": null,
   "metadata": {
    "collapsed": true
   },
   "outputs": [],
   "source": [
    "#objective function\n",
    "def gauss2d(xf,x0,y0,a,b):\n",
    "    \"\"\"Compute 2d gaussian function, exp(-a*(x-x0)^2-b*(y-y0)^2)\n",
    "    x = xf[0], y = xf[1]\n",
    "    \"\"\"\n",
    "    x = xf[0]\n",
    "    y = xf[1]\n",
    "\n",
    "    return -np.exp(-a*(x-x0)**2 - b*(y-y0)**2)\n",
    "\n",
    "\n",
    "#gradient of objective function\n",
    "def gauss2d_grad(xf,x0,y0,a,b):\n",
    "    \"\"\"Compute gradietn of 2d gaussian function\n",
    "    defined in gauss2d. Returns two-element tuple\n",
    "    containing (df/dx,df/dy)\n",
    "    \"\"\"\n",
    "\n",
    "    #compute function\n",
    "    f = gauss2d(xf,x0,y0,a,b)\n",
    "\n",
    "    x = xf[0]\n",
    "    y = xf[1]\n",
    "\n",
    "    return np.array([-2.0*a*(x-x0)*f,-2.0*b*(y-y0)*f])"
   ]
  },
  {
   "cell_type": "markdown",
   "metadata": {},
   "source": [
    "2) The equality constraint has to be specified in a function, complete the function below to return $y-sin(x)$."
   ]
  },
  {
   "cell_type": "code",
   "execution_count": null,
   "metadata": {
    "collapsed": true
   },
   "outputs": [],
   "source": [
    "def econstraint(U):\n",
    "    \"\"\"U is a two-element tuple\n",
    "       containing x and y\"\"\"\n",
    "    #add return statement\n",
    "    "
   ]
  },
  {
   "cell_type": "markdown",
   "metadata": {},
   "source": [
    "3) The code below sets up the parameters of the problem, and defines the dictionary, *cons*, which should be provided as input to *minimize*. Note that inequality constraints can be set up in a similar manner with 'type':'ineq'"
   ]
  },
  {
   "cell_type": "code",
   "execution_count": null,
   "metadata": {
    "collapsed": true
   },
   "outputs": [],
   "source": [
    "from scipy.optimize import minimize\n",
    "xguess = (2,sin(2))\n",
    "parameters = (1.0,3.0,1.0,1.0) #x0,y0,a,b\n",
    "cons = ({'type':'eq','fun':econstraint}) #equality constraint"
   ]
  },
  {
   "cell_type": "markdown",
   "metadata": {},
   "source": [
    "4) Uncomment the code below and complete the call to *minimize* so that it uses *cons* and the *SLSQP* method"
   ]
  },
  {
   "cell_type": "code",
   "execution_count": null,
   "metadata": {
    "collapsed": true
   },
   "outputs": [],
   "source": [
    "# result = minimize(gauss2d,xguess,args=parameters, #add code here)\n",
    "# x,y=result.x[0],result.x[1] #extract location of optimum from result"
   ]
  },
  {
   "cell_type": "markdown",
   "metadata": {},
   "source": [
    "The code below will display the Gaussian, the constraint, and the solution"
   ]
  },
  {
   "cell_type": "code",
   "execution_count": null,
   "metadata": {
    "collapsed": true
   },
   "outputs": [],
   "source": [
    "#display objective\n",
    "def display_gauss2d(args):\n",
    "    \"\"\"display objective functions and curves indicating \n",
    "    equality (green) constraints\"\"\"\n",
    "\n",
    "    from matplotlib import colors\n",
    "\n",
    "    x0,y0,a,b=args\n",
    "    \n",
    "    x = np.linspace(-5+x0,5+x0,101)\n",
    "    y = np.linspace(-5+y0,5+y0,101)\n",
    "    \n",
    "    xg,yg=np.meshgrid(x,y)\n",
    "    xf = (xg,yg)\n",
    "        \n",
    "    f = gauss2d(xf,x0,y0,a,b)\n",
    "    \n",
    "    plt.figure()\n",
    "    V = np.logspace(-6,0,20)\n",
    "    plt.contour(xg,yg,-f,V,norm=colors.LogNorm())\n",
    "    plt.plot(x,np.sin(x),'g--')\n",
    "    plt.axis([x0-5,x0+5,y0-5,y0+5])\n",
    "    plt.legend(('equality constraint',''),loc='best')\n",
    "    plt.xlabel('x')\n",
    "    plt.ylabel('y')"
   ]
  },
  {
   "cell_type": "code",
   "execution_count": null,
   "metadata": {
    "collapsed": true
   },
   "outputs": [],
   "source": [
    "#display_gauss2d(parameters)\n",
    "#plot(x,y,'r*',markersize=8)"
   ]
  },
  {
   "cell_type": "markdown",
   "metadata": {},
   "source": [
    "### Task 2: Simple neural network example"
   ]
  },
  {
   "cell_type": "markdown",
   "metadata": {},
   "source": [
    "1) The script below imports a dataset of images of handwritten digits stored in *X* with labels stored in *y*. You should first run the code (two versions are provided), and then work through the questions that follow."
   ]
  },
  {
   "cell_type": "code",
   "execution_count": null,
   "metadata": {
    "collapsed": true
   },
   "outputs": [],
   "source": [
    "#Should work for newer Python and sklearn installations (otherwise see below)\n",
    "import matplotlib.pyplot as plt\n",
    "from sklearn.datasets import fetch_openml\n",
    "from sklearn.neural_network import MLPClassifier\n",
    "\n",
    "print(__doc__)\n",
    "\n",
    "# Load data from https://www.openml.org/d/554\n",
    "X, y = fetch_openml('mnist_784', version=1, return_X_y=True)\n",
    "X = X / 255.; X=X[:10000];y=y[:10000]\n",
    "\n",
    "# rescale the data, use the traditional train/test split\n",
    "X_train, X_test = X[:60000], X[60000:]\n",
    "y_train, y_test = y[:60000], y[60000:]\n",
    "\n",
    "mlp = MLPClassifier(hidden_layer_sizes=(50,), max_iter=10, alpha=1e-4,\n",
    "                    solver='sgd', verbose=10, tol=1e-4, random_state=1,\n",
    "                    learning_rate_init=.1)\n",
    "\n",
    "mlp.fit(X_train, y_train)\n",
    "print(\"Training set score: %f\" % mlp.score(X_train, y_train))\n",
    "print(\"Test set score: %f\" % mlp.score(X_test, y_test))\n",
    "\n"
   ]
  },
  {
   "cell_type": "code",
   "execution_count": null,
   "metadata": {
    "collapsed": true
   },
   "outputs": [],
   "source": [
    "#For older Python/sklearn installations\n",
    "print(__doc__)\n",
    "\n",
    "import matplotlib.pyplot as plt\n",
    "from sklearn.datasets import fetch_mldata\n",
    "from sklearn.neural_network import MLPClassifier\n",
    "\n",
    "mnist = fetch_mldata(\"MNIST original\")\n",
    "# rescale the data, use the traditional train/test split\n",
    "X, y = mnist.data / 255., mnist.target; #X=X[:10000];y=y[:10000]\n",
    "X_train, X_test = X[:60000], X[60000:]\n",
    "y_train, y_test = y[:60000], y[60000:]\n",
    "\n",
    "mlp = MLPClassifier(hidden_layer_sizes=(50,), max_iter=10, alpha=1e-4,\n",
    "                    solver='sgd', verbose=10, tol=1e-4, random_state=1,\n",
    "                    learning_rate_init=.1)\n",
    "\n",
    "mlp.fit(X_train, y_train)\n",
    "print(\"Training set score: %f\" % mlp.score(X_train, y_train))\n",
    "print(\"Test set score: %f\" % mlp.score(X_test, y_test))"
   ]
  },
  {
   "cell_type": "markdown",
   "metadata": {},
   "source": [
    "2) $X$ contains the input images and $y$ the labels for the images. What are the shapes of $X$ and $y$? What do the dimensions of X correspond to?"
   ]
  },
  {
   "cell_type": "code",
   "execution_count": null,
   "metadata": {
    "collapsed": true
   },
   "outputs": [],
   "source": []
  },
  {
   "cell_type": "markdown",
   "metadata": {},
   "source": [
    "3) Each row of X contains pixel values for a 28 x 28 image. Use np.reshape to\n",
    "create a 28 x 28 matrix from the 20001st row of X. Then use plt.imshow() to display this matrix"
   ]
  },
  {
   "cell_type": "code",
   "execution_count": null,
   "metadata": {
    "collapsed": true
   },
   "outputs": [],
   "source": []
  },
  {
   "cell_type": "markdown",
   "metadata": {},
   "source": [
    "4) Does the image match the corresponding value of y"
   ]
  },
  {
   "cell_type": "code",
   "execution_count": null,
   "metadata": {
    "collapsed": true
   },
   "outputs": [],
   "source": []
  },
  {
   "cell_type": "markdown",
   "metadata": {},
   "source": [
    "5) The *mlp.predict* method is used to obtain predictions from the NN after its fitting parameters have been set. Use the *predict* method to predict the number displayed in the last row of *X_test*. Is the prediction correct?"
   ]
  },
  {
   "cell_type": "code",
   "execution_count": null,
   "metadata": {
    "collapsed": true
   },
   "outputs": [],
   "source": []
  }
 ],
 "metadata": {
  "kernelspec": {
   "display_name": "Python 3",
   "language": "python",
   "name": "python3"
  },
  "language_info": {
   "codemirror_mode": {
    "name": "ipython",
    "version": 3
   },
   "file_extension": ".py",
   "mimetype": "text/x-python",
   "name": "python",
   "nbconvert_exporter": "python",
   "pygments_lexer": "ipython3",
   "version": "3.6.2"
  }
 },
 "nbformat": 4,
 "nbformat_minor": 1
}
